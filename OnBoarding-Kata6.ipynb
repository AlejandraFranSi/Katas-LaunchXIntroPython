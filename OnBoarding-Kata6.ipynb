{
 "cells": [
  {
   "cell_type": "markdown",
   "metadata": {},
   "source": [
    "# Aplicación que muestra los planetas más cercanos y más lejanos al sol que el planeta dado\n"
   ]
  },
  {
   "cell_type": "markdown",
   "metadata": {},
   "source": [
    "Creamos una lista con los nombres de los planetas y realizamos algunas acciones sobre y con ella"
   ]
  },
  {
   "cell_type": "code",
   "execution_count": 12,
   "metadata": {},
   "outputs": [
    {
     "name": "stdout",
     "output_type": "stream",
     "text": [
      "El Sistema Solar tiene 8 planetas\n",
      "Plutón es el último planeta del Sistema Solar.\n"
     ]
    }
   ],
   "source": [
    "# 1.Creamos una lista con los planetas\n",
    "planets = [\"Mercurio\", \"Venus\", \"Tierra\", \"Marte\", \"Jupiter\", \"Saturno\", \"Urano\", \"Neptuno\"]\n",
    "# 2.Obtenemos y mostramos su longitud\n",
    "print(f\"El Sistema Solar tiene {len(planets)} planetas\")\n",
    "# 3.Agragamos Plutón\n",
    "planets.append(\"Plutón\")\n",
    "# 4.Mostramos el último elemento\n",
    "print(f\"{planets[-1]} es el último planeta del Sistema Solar.\")"
   ]
  },
  {
   "cell_type": "markdown",
   "metadata": {},
   "source": [
    "Preguntamos al usuario el planeta del que desea información. Luego hacemos particiones sobre la lista para distinguir los planetas más cercanos y más lejanos al sol. Finalmente indicamos al usuario los planetas más cercanos y más lejanos"
   ]
  },
  {
   "cell_type": "code",
   "execution_count": 11,
   "metadata": {},
   "outputs": [
    {
     "name": "stdout",
     "output_type": "stream",
     "text": [
      "Los planetas que están mas cerca del sol que Venus son: ['Mercurio'].\n",
      "Los que están más lejos son ['Tierra', 'Marte', 'Jupiter', 'Saturno', 'Urano', 'Neptuno', 'Plutón']\n"
     ]
    }
   ],
   "source": [
    "# 5. Solicitamos al usuario el nombre de un planeta\n",
    "solicited_planet = input(\"¿Cuál es el planeta del que desea información?\").title()\n",
    "# 6. Revisamos si está en la lista y obtenemos su index\n",
    "if solicited_planet in planets:\n",
    "    solicited_planet_index = planets.index(solicited_planet)\n",
    "    # 7. Creamos una partición de la lista e indicamos qué planetas son más cercanos y cuáles más lejanos\n",
    "    if solicited_planet_index == 0:\n",
    "        further_planets = planets[solicited_planet_index + 1: len(planets)]\n",
    "        print(f\"No hay planetas más cercanos que {solicited_planet} al sol.\\nLos que están más lejos son: {further_planets}\")\n",
    "    elif solicited_planet_index == len(planets) - 1:\n",
    "        closer_planets = planets[0:solicited_planet_index]\n",
    "        print(f\"Los planetas que están más cerca del sol que {solicited_planet} son: {closer_planets}.\\nNo hay planetas más lejanos.\")\n",
    "    else:\n",
    "        closer_planets = planets[0:solicited_planet_index]\n",
    "        further_planets = planets[solicited_planet_index + 1: len(planets)]\n",
    "        print(f\"Los planetas que están mas cerca del sol que {solicited_planet} son: {closer_planets}.\\nLos que están más lejos son: {further_planets}\")\n",
    "else:\n",
    "    print(f\"{solicited_planet} no pertenece a nuestro sistema solar\")\n",
    "\n"
   ]
  }
 ],
 "metadata": {
  "interpreter": {
   "hash": "aee8b7b246df8f9039afb4144a1f6fd8d2ca17a180786b69acc140d282b71a49"
  },
  "kernelspec": {
   "display_name": "Python 3.9.1 64-bit",
   "language": "python",
   "name": "python3"
  },
  "language_info": {
   "codemirror_mode": {
    "name": "ipython",
    "version": 3
   },
   "file_extension": ".py",
   "mimetype": "text/x-python",
   "name": "python",
   "nbconvert_exporter": "python",
   "pygments_lexer": "ipython3",
   "version": "3.9.1"
  },
  "orig_nbformat": 4
 },
 "nbformat": 4,
 "nbformat_minor": 2
}
