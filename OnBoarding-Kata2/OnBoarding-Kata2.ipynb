{
 "cells": [
  {
   "cell_type": "markdown",
   "metadata": {},
   "source": [
    "# Creación de entornos virtuales\n",
    "\n",
    "1. Crear un entorno virtual con 'venv'\n",
    "2. Activar el entorno virtual\n",
    "3. Revisar las bibliotecas que hay en el entorno virtual\n",
    "4. Instalar una biblioteca\n",
    "5. Revisamos los cambios en la lista de bibliotecas\n",
    "6. Desactivamos el entorno virtual"
   ]
  },
  {
   "cell_type": "markdown",
   "metadata": {},
   "source": [
    "![TerminalScreenshot-EntornosVisuales](TerminalScreenshot.png \"Screenshot1\")\n",
    "![DirectoryScreenshot-EntornosVisuales](DirectoryScreenshot.png \"Screenshot2\")"
   ]
  }
 ],
 "metadata": {
  "interpreter": {
   "hash": "aee8b7b246df8f9039afb4144a1f6fd8d2ca17a180786b69acc140d282b71a49"
  },
  "kernelspec": {
   "display_name": "Python 3.9.1 64-bit",
   "language": "python",
   "name": "python3"
  },
  "language_info": {
   "codemirror_mode": {
    "name": "ipython",
    "version": 3
   },
   "file_extension": ".py",
   "mimetype": "text/x-python",
   "name": "python",
   "nbconvert_exporter": "python",
   "pygments_lexer": "ipython3",
   "version": "3.9.1"
  },
  "orig_nbformat": 4
 },
 "nbformat": 4,
 "nbformat_minor": 2
}
