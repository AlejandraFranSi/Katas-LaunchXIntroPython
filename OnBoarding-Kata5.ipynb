{
 "cells": [
  {
   "cell_type": "markdown",
   "metadata": {},
   "source": [
    "# Calculadora de distancia entre cuerpos celestes"
   ]
  },
  {
   "cell_type": "markdown",
   "metadata": {},
   "source": [
    "1. Distancia entre dos planetas de los que conocemos la posición"
   ]
  },
  {
   "cell_type": "code",
   "execution_count": 14,
   "metadata": {},
   "outputs": [
    {
     "name": "stdout",
     "output_type": "stream",
     "text": [
      "La distancia entre Tierra y Júpiter es 628949330 km, o bien, 390577533.93 millas\n"
     ]
    }
   ],
   "source": [
    "planeta_1 = \"Tierra\"\n",
    "posicion_1 = 149597870\n",
    "\n",
    "planeta_2 = \"Júpiter\"\n",
    "posicion_2 = 778547200 \n",
    "\n",
    "# Para calcular la distancia entre planetas:\n",
    "distancia = abs(posicion_1 - posicion_2)\n",
    "distancia_en_millas = distancia * 0.621\n",
    "\n",
    "print(f\"La distancia entre {planeta_1} y {planeta_2} es {distancia} km, o bien, {distancia_en_millas} millas\")\n"
   ]
  },
  {
   "cell_type": "markdown",
   "metadata": {},
   "source": [
    "2. Distancia al sol y distancia entre planetas (una versión más general)"
   ]
  },
  {
   "cell_type": "code",
   "execution_count": 16,
   "metadata": {},
   "outputs": [
    {
     "name": "stdout",
     "output_type": "stream",
     "text": [
      "La distancia de Mercurio al Sol es: 57900000 km o 35955900.0 millas.\n",
      "    La distancia de Alfa Centauri al Sol es: 90000000 km o 55890000.0 millas.\n",
      "    La distancia entre Mercurio y Alfa Centauri es 32100000 km o 19934100.0 millas.\n"
     ]
    }
   ],
   "source": [
    "# Creamos un diccionario con la distancia de los planetas del sistema solar al sol\n",
    "distancias = {\"Mercurio\":57900000,\n",
    "\"Venus\":108200000,\n",
    "\"Tierra\":149600000,\n",
    "\"Marte\":227900000,\n",
    "\"Júpiter\":778600000,\n",
    "\"Saturno\":1433500000,\n",
    "\"Urano\":2872500000,\n",
    "\"Neptuno\":4495100000,\n",
    "}\n",
    "\n",
    "# Función para revisar si el planeta está en el diccionario y si no agregarlo \n",
    "def planet_in_dictionary(planet_name):\n",
    "    if planet_name in distancias:\n",
    "        pass\n",
    "    else:\n",
    "        distance_from_sun = int(input(f\"¿Cuál es la distancia de {planet_name} al Sol?\"))\n",
    "        distancias[planet_name] = distance_from_sun\n",
    "\n",
    "# Función para medir distancias\n",
    "def distance_between(planet1, planet2):\n",
    "    distance1_fromsun = distancias[planet1]\n",
    "    distance1_in_miles = distance1_fromsun * 0.621\n",
    "    distance2_fromsun = distancias[planet2]\n",
    "    distance2_in_miles = distance2_fromsun * 0.621\n",
    "    distance_between_planets = abs(distance1_fromsun - distance2_fromsun)\n",
    "    distance_between_planets_in_miles = distance_between_planets* 0.621\n",
    "    print(f\"\"\"La distancia de {planet1} al Sol es: {distance1_fromsun} km o {distance1_in_miles} millas.\n",
    "    La distancia de {planet2} al Sol es: {distance2_fromsun} km o {distance2_in_miles} millas.\n",
    "    La distancia entre {planet1} y {planet2} es {distance_between_planets} km o {distance_between_planets_in_miles} millas.\"\"\")\n",
    "\n",
    "\n",
    "\n",
    "# Pedir la los nombres del los planetas de los que se desea información\n",
    "planeta_a = input(\"¿Cuál es el nmbre del primer planeta del que deseas información?\").title()\n",
    "planet_in_dictionary(planeta_a)\n",
    "planeta_b = input(\"¿Cuál es el nmbre del segundo planeta del que deseas información?\").title()\n",
    "planet_in_dictionary(planeta_b)\n",
    "\n",
    "# Calcular la distancia entre los dos planetas solicitados e indicar su distancia al sol\n",
    "distance_between(planeta_a, planeta_b)\n",
    "\n"
   ]
  }
 ],
 "metadata": {
  "interpreter": {
   "hash": "767d51c1340bd893661ea55ea3124f6de3c7a262a8b4abca0554b478b1e2ff90"
  },
  "kernelspec": {
   "display_name": "Python 2.7.16 64-bit",
   "language": "python",
   "name": "python3"
  },
  "language_info": {
   "codemirror_mode": {
    "name": "ipython",
    "version": 3
   },
   "file_extension": ".py",
   "mimetype": "text/x-python",
   "name": "python",
   "nbconvert_exporter": "python",
   "pygments_lexer": "ipython3",
   "version": "3.9.1"
  },
  "orig_nbformat": 4
 },
 "nbformat": 4,
 "nbformat_minor": 2
}
