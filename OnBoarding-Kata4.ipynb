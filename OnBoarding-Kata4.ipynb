{
 "cells": [
  {
   "cell_type": "markdown",
   "metadata": {},
   "source": [
    "# Para describir hechos sobre la Luna"
   ]
  },
  {
   "cell_type": "markdown",
   "metadata": {},
   "source": [
    "Transformar cadenas"
   ]
  },
  {
   "cell_type": "code",
   "execution_count": 3,
   "metadata": {},
   "outputs": [
    {
     "name": "stdout",
     "output_type": "stream",
     "text": [
      " The Moon is Earth's only satellite\n",
      " The highest daylight temperature of the Moon is 127 C\n"
     ]
    }
   ],
   "source": [
    "text = \"\"\"Interesting facts about the Moon. The Moon is Earth's only satellite. There are several interesting facts about the Moon and how it affects life here on Earth. \n",
    "On average, the Moon moves 4cm away from the Earth every year. This yearly drift is not significant enough to cause immediate effects on Earth. The highest daylight temperature of the Moon is 127 C.\"\"\"\n",
    "\n",
    "# 1. Primero, divide el texto en cada oración para trabajar con su contenido:\n",
    "split_text = text.split(\".\")\n",
    "\n",
    "# 2. Ahora, define algunas palabras clave para búsqueda que te ayudarán a determinar si una oración contiene un hecho.\n",
    "word_list = [\"satellite\", \"temperature\"]\n",
    "\n",
    "# 3. Cree un bucle para imprimir solo datos sobre la Luna que estén relacionados con las palabras clave definidas anteriormente:\n",
    "for word in word_list:\n",
    "    for sentence in split_text:\n",
    "        if word in sentence:\n",
    "            print(sentence)\n",
    "\n",
    "# 4. Finalmente, actualiza el bucle(ciclo) para cambiar C a Celsius:\n",
    "for word in word_list:\n",
    "    for sentence in split_text:\n",
    "        if word in sentence:\n",
    "            sentence.lower().replace(\"celcius\", \"C\")\n",
    "            print(sentence)"
   ]
  },
  {
   "cell_type": "markdown",
   "metadata": {},
   "source": [
    "Formateando cadenas"
   ]
  },
  {
   "cell_type": "code",
   "execution_count": 4,
   "metadata": {},
   "outputs": [
    {
     "name": "stdout",
     "output_type": "stream",
     "text": [
      "Gravity between Moon and Earth\n",
      "- - - - - - - - - - - - - - - - - - - - \n",
      "Name: Moon\n",
      "Gravity: 1.6199999999999999\n",
      "Planet: Earth\n",
      "Gravedad entre Ganímedes y Marte\n",
      "- - - - - - - - - - - - - - - - - - - - - - - - - - - - - - - - \n",
      "Name: Ganímedes\n",
      "Gravity: 1.4300000000000002\n",
      "Planet: Marte\n"
     ]
    }
   ],
   "source": [
    "name = \"Moon\"\n",
    "gravity = 0.00162 # in kms\n",
    "planet = \"Earth\"\n",
    "\n",
    "# 1. Primero, crea un título para el texto. Debido a que este texto trata sobre la gravedad en la Tierra y la Luna, úsalo para crear un título significativo. \n",
    "# Utiliza las variables en lugar de escribir.\n",
    "title = f\"Gravity between {name} and {planet}\"\n",
    "\n",
    "# 2. Ahora crea una plantilla de cadena multilínea para contener el resto de la información. \n",
    "# En lugar de usar kilómetros, debes convertir la distancia a metros multiplicando por 1,000.\n",
    "blueprint = f\"\"\"{\"- \" * 20}\n",
    "Name: {name}\n",
    "Gravity: {gravity * 1000}\n",
    "Planet: {planet}\"\"\"\n",
    "\n",
    "# 3. Finalmente, usa ambas variables para unir el título y los hechos.\n",
    "full_text = title + \"\\n\" + blueprint\n",
    "print(full_text)\n",
    "\n",
    "# 4. Nueva muestra\n",
    "planeta = 'Marte'\n",
    "gravedad  = 0.00143 * 1000\n",
    "nombre = 'Ganímedes'\n",
    "\n",
    "# 5. La salida no muestra información sobre Marte. Todavía muestra información sobre la Luna. \n",
    "# Esto sucede porque las cadenas f están ansiosas en su evaluación, por lo que las variables una vez asignadas no se pueden reasignar. \n",
    "# Para evitar este problema, vuelva a hacer la plantilla para utilizar .format():\n",
    "new_blueprint = \"\"\"Gravedad entre {nombre} y {planeta}\n",
    "- - - - - - - - - - - - - - - - - - - - - - - - - - - - - - - - \n",
    "Name: {nombre}\n",
    "Gravity: {gravedad}\n",
    "Planet: {planeta}\"\"\".format(nombre = nombre, planeta = planeta, gravedad = gravedad)\n",
    "\n",
    "print(new_blueprint)\n"
   ]
  }
 ],
 "metadata": {
  "interpreter": {
   "hash": "aee8b7b246df8f9039afb4144a1f6fd8d2ca17a180786b69acc140d282b71a49"
  },
  "kernelspec": {
   "display_name": "Python 3.9.1 64-bit",
   "language": "python",
   "name": "python3"
  },
  "language_info": {
   "codemirror_mode": {
    "name": "ipython",
    "version": 3
   },
   "file_extension": ".py",
   "mimetype": "text/x-python",
   "name": "python",
   "nbconvert_exporter": "python",
   "pygments_lexer": "ipython3",
   "version": "3.9.1"
  },
  "orig_nbformat": 4
 },
 "nbformat": 4,
 "nbformat_minor": 2
}
