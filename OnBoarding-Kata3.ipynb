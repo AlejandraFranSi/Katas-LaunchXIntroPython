{
 "cells": [
  {
   "cell_type": "markdown",
   "metadata": {},
   "source": [
    "# Advertencia de que un asterioide se acerca muy rápido a la Tierra\n",
    "La velocidad del asteroide varía dependiendo de lo cerca que esté del sol, y cualquier velocidad superior a 25 kilómetros por segundo (km/s) merece una advertencia."
   ]
  },
  {
   "cell_type": "code",
   "execution_count": 1,
   "metadata": {},
   "outputs": [
    {
     "name": "stdout",
     "output_type": "stream",
     "text": [
      "¡Advertencia! Un asteroide está demasiado cerca\n"
     ]
    }
   ],
   "source": [
    "# Un asteroide se acerca, y viaja a una velocidad de 49 km/s.\n",
    "asteroid1_speed = 49\n",
    "if asteroid1_speed > 25:\n",
    "    print(\"¡Advertencia! Un asteroide está demasiado cerca\")\n",
    "else:\n",
    "    print(\"No hay asteroide cerca\")"
   ]
  },
  {
   "cell_type": "markdown",
   "metadata": {},
   "source": [
    "# Advertencia para buscar asteroides en el cielo"
   ]
  },
  {
   "cell_type": "markdown",
   "metadata": {},
   "source": [
    "Si un asteroide entra en la atmósfera de la Tierra a una velocidad mayor o igual a 20 km/s, a veces produce un rayo de luz que se puede ver desde la Tierra. ¡Hay uno que se dirige a la tierra ahora a una velocidad de 19 km/s!"
   ]
  },
  {
   "cell_type": "code",
   "execution_count": 2,
   "metadata": {},
   "outputs": [
    {
     "name": "stdout",
     "output_type": "stream",
     "text": [
      "No hay asteroides cerca\n"
     ]
    }
   ],
   "source": [
    "asteroid2_speed = 19\n",
    "if asteroid2_speed >= 20:\n",
    "    print(f\"Mira hacia arriba. Un asteroide viajando a una velocidad de {asteroid2_speed} km/s está pasando por la Tierra\")\n",
    "else:\n",
    "    print(\"No hay asteroides cerca\")"
   ]
  },
  {
   "cell_type": "markdown",
   "metadata": {},
   "source": [
    "1. Los asteroides de menos de 25 metros en su dimensión más grande probablemente se quemarán a medida que entren en la atmósfera de la Tierra. \n",
    "2. Si una pieza de un asteroide que es más grande que 25 metros pero más pequeña que 1000 metros golpeara la Tierra, causaría mucho daño. \n",
    "3. La velocidad del asteroide varía en función de lo cerca que esté del sol, y cualquier velocidad superior a 25 kilómetros por segundo (km/s) merece una advertencia. \n",
    "4. Si un asteroide entra en la atmósfera de la Tierra a una velocidad mayor o igual a 20 km/s, a veces produce un rayo de luz que se puede ver desde la Tierra.\n"
   ]
  },
  {
   "cell_type": "code",
   "execution_count": 4,
   "metadata": {},
   "outputs": [
    {
     "name": "stdout",
     "output_type": "stream",
     "text": [
      "¡Advertencia! Un asteroide que causaría grandes daños si chocara con la Tierra se encuentra muy cerca\n"
     ]
    }
   ],
   "source": [
    "asteroid_speed = 90\n",
    "asteroid_dim = 30\n",
    "\n",
    "if 100 > asteroid_dim > 25 and asteroid_speed > 25:\n",
    "    print(\"¡Advertencia! Un asteroide que causaría grandes daños si chocara con la Tierra se encuentra muy cerca\")\n",
    "elif  asteroid_speed >= 20: \n",
    "    if asteroid_dim < 25:\n",
    "        print(f\"Mira hacia arriba. Un asteroide viajando a una velocidad de {asteroid_speed} km/s está pasando por la Tierra\")\n",
    "    else:\n",
    "        print(f\"Mira hacia arriba. Si vez un rayo de luz, es un asteroide viajando a una velocidad de {asteroid_speed} km/s\")\n",
    "else:\n",
    "    print(\"No hay asteroides cerca\")"
   ]
  }
 ],
 "metadata": {
  "interpreter": {
   "hash": "aee8b7b246df8f9039afb4144a1f6fd8d2ca17a180786b69acc140d282b71a49"
  },
  "kernelspec": {
   "display_name": "Python 3.9.1 64-bit",
   "language": "python",
   "name": "python3"
  },
  "language_info": {
   "codemirror_mode": {
    "name": "ipython",
    "version": 3
   },
   "file_extension": ".py",
   "mimetype": "text/x-python",
   "name": "python",
   "nbconvert_exporter": "python",
   "pygments_lexer": "ipython3",
   "version": "3.9.1"
  },
  "orig_nbformat": 4
 },
 "nbformat": 4,
 "nbformat_minor": 2
}
