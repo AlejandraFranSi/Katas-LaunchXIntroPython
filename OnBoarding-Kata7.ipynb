{
 "cells": [
  {
   "cell_type": "markdown",
   "metadata": {},
   "source": [
    "Ejercicio 1: Hacer una lista con planetas pidiendo input al usuario"
   ]
  },
  {
   "cell_type": "code",
   "execution_count": 1,
   "metadata": {},
   "outputs": [],
   "source": [
    "# Primera forma\n",
    "add_planet = True\n",
    "planets = []\n",
    "\n",
    "while add_planet:\n",
    "    planet_input = input(\"Escribe el nombre del planeta que deseas agregar a la lista. Si has terminado escribe 'done'\")\n",
    "    if planet_input.lower() == \"done\":\n",
    "        add_planet = False\n",
    "    else:\n",
    "        planets.append(planet_input.title())\n",
    "        \n"
   ]
  },
  {
   "cell_type": "code",
   "execution_count": 3,
   "metadata": {},
   "outputs": [
    {
     "name": "stdout",
     "output_type": "stream",
     "text": [
      "['Mercurio', 'Venus', 'Tierra', 'Marte']\n"
     ]
    }
   ],
   "source": [
    "# Segunda Forma\n",
    "planetas = []\n",
    "nuevo_planeta = input(\"Escribe el nombre del planeta que deseas agregar a la lista. Si has terminado escribe 'done'\")\n",
    "\n",
    "while nuevo_planeta.lower() != \"done\":\n",
    "    planetas.append(nuevo_planeta.title())\n",
    "    nuevo_planeta = input(\"Escribe el nombre del planeta que deseas agregar a la lista. Si has terminado escribe 'done'\")\n"
   ]
  },
  {
   "cell_type": "markdown",
   "metadata": {},
   "source": [
    "Ejercicio 2: Mostrar los planetas guardados iterando sobre la lista de planetas"
   ]
  },
  {
   "cell_type": "code",
   "execution_count": 4,
   "metadata": {},
   "outputs": [
    {
     "name": "stdout",
     "output_type": "stream",
     "text": [
      "Mercurio\n",
      "Venus\n",
      "Tierra\n",
      "Marte\n"
     ]
    }
   ],
   "source": [
    "for planeta in planetas:\n",
    "    print(planeta)"
   ]
  }
 ],
 "metadata": {
  "interpreter": {
   "hash": "aee8b7b246df8f9039afb4144a1f6fd8d2ca17a180786b69acc140d282b71a49"
  },
  "kernelspec": {
   "display_name": "Python 3.9.1 64-bit",
   "language": "python",
   "name": "python3"
  },
  "language_info": {
   "codemirror_mode": {
    "name": "ipython",
    "version": 3
   },
   "file_extension": ".py",
   "mimetype": "text/x-python",
   "name": "python",
   "nbconvert_exporter": "python",
   "pygments_lexer": "ipython3",
   "version": "3.9.1"
  },
  "orig_nbformat": 4
 },
 "nbformat": 4,
 "nbformat_minor": 2
}
