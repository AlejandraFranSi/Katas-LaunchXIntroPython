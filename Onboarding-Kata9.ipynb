{
 "cells": [
  {
   "cell_type": "markdown",
   "metadata": {},
   "source": [
    "# Reporte de combustible"
   ]
  },
  {
   "cell_type": "markdown",
   "metadata": {},
   "source": [
    "Crearemos una función que pida tres argumentos (que harán referencia al porcentaje de llenado de cada tanque) y calculará el promedio"
   ]
  },
  {
   "cell_type": "code",
   "execution_count": 55,
   "metadata": {},
   "outputs": [
    {
     "name": "stdout",
     "output_type": "stream",
     "text": [
      "Reporte de combustible disponible:\n",
      "Promedio total:67.33333333333333%\n",
      "Tanque Principal:70%\n",
      "Tanque externo:50%\n",
      "Tanque de hidrógeno:82%\n"
     ]
    }
   ],
   "source": [
    "# Función para reportar qué tan llenos están los tanques, sabiendo el porcentaje que están llenos\n",
    "\n",
    "def reporte_tanque(tanque1, tanque2, tanque3):\n",
    "    total = tanque1 + tanque2 + tanque3\n",
    "    promedio = total / 3\n",
    "    reporte = f\"Reporte de combustible disponible:\\nPromedio total:{promedio}%\\nTanque Principal:{tanque1}%\\nTanque externo:{tanque2}%\\nTanque de hidrógeno:{tanque3}%\"\n",
    "    return(reporte)\n",
    "\n",
    "print(reporte_tanque(70,50,82))\n",
    "    "
   ]
  },
  {
   "cell_type": "code",
   "execution_count": 56,
   "metadata": {},
   "outputs": [
    {
     "name": "stdout",
     "output_type": "stream",
     "text": [
      "67.33333333333333\n",
      "Reporte de combustible disponible:\n",
      "Promedio total:67.33333333333333%\n",
      "Tanque Principal:70%\n",
      "Tanque externo:50%\n",
      "Tanque de hidrógeno:82%\n"
     ]
    }
   ],
   "source": [
    "# Ahora hacemos independiente la función de promedio y actualizamos la función de arriba\n",
    "def promedio(*args):\n",
    "    valor_promedio = sum(args) / len(args)\n",
    "    return valor_promedio\n",
    "\n",
    "print(promedio(70, 50, 82))\n",
    "\n",
    "# Actualizamos la función de arriba\n",
    "def reporte_combustible(tanque1, tanque2, tanque3):\n",
    "    promedio = promedio(tanque1, tanque2, tanque3)\n",
    "    reporte = f\"Reporte de combustible disponible:\\nPromedio total:{promedio}%\\nTanque Principal:{tanque1}%\\nTanque externo:{tanque2}%\\nTanque de hidrógeno:{tanque3}%\"\n",
    "    return(reporte)\n",
    "\n",
    "print(reporte_tanque(70,50,82))\n"
   ]
  },
  {
   "cell_type": "markdown",
   "metadata": {},
   "source": [
    "# Informe del cohete"
   ]
  },
  {
   "cell_type": "markdown",
   "metadata": {},
   "source": [
    "Este informe involucrará varias piezas de información: destino, tiempo hasta el destino"
   ]
  },
  {
   "cell_type": "code",
   "execution_count": 164,
   "metadata": {},
   "outputs": [
    {
     "name": "stdout",
     "output_type": "stream",
     "text": [
      "La hora actual es: 18 hrs.\n",
      "Llegar a Júpiter tomará 74 hrs.\n",
      "El porcentaje de combustible restante es: 71.0%\n"
     ]
    }
   ],
   "source": [
    "def reporte_de_la_nave(tiempo_actual, tiempo_de_vuelo, destino, tank1, tank2, tank3):\n",
    "    reporte =f\"La hora actual es: {tiempo_actual} hrs.\\nLlegar a {destino} tomará {tiempo_actual + tiempo_de_vuelo} hrs.\\nEl porcentaje de combustible restante es: {(tank1 + tank2 + tank3) / 3}%\"\n",
    "    return reporte\n",
    "\n",
    "print(reporte_de_la_nave(18, 56, \"Júpiter\", 45, 78, 90))\n"
   ]
  },
  {
   "cell_type": "code",
   "execution_count": 170,
   "metadata": {},
   "outputs": [
    {
     "name": "stdout",
     "output_type": "stream",
     "text": [
      "Mission to: Moon\n",
      "Expected time: 76 hours.\n",
      "Total fuel left is: 500000 galons.\n"
     ]
    }
   ],
   "source": [
    "# Ahora una versión un poquito más general\n",
    "def ship_report(destination, *time_values, **fuel_values):\n",
    "    report = f\"Mission to: {destination}\\nExpected time: {sum(time_values)} hours.\\nTotal fuel left is: {sum(fuel_values.values())} galons.\"\n",
    "    return report\n",
    "\n",
    "print(ship_report(\"Moon\", 10, 15, 51, main=300000, external=200000))"
   ]
  },
  {
   "cell_type": "code",
   "execution_count": 172,
   "metadata": {},
   "outputs": [
    {
     "name": "stdout",
     "output_type": "stream",
     "text": [
      "Mission to: Moon\n",
      "Expected time: 74 hours.\n",
      "Total fuel left is: 500000 gallons distributed in the following way:\n",
      "main: 300000 gallons\n",
      "external: 200000 gallons\n",
      "\n"
     ]
    }
   ],
   "source": [
    "def mission_report(destination, *time_values, **fuel_values):\n",
    "    report = f\"Mission to: {destination}\\nExpected time: {sum(time_values)} hours.\\nTotal fuel left is: {sum(fuel_values.values())} gallons distributed in the following way:\\n\"\n",
    "    for tank, gallons in fuel_values.items():\n",
    "        report += f\"{tank}: {gallons} gallons\\n\"\n",
    "    return report\n",
    "\n",
    "print(mission_report(\"Moon\", 8, 11, 55, main=300000, external=200000))"
   ]
  }
 ],
 "metadata": {
  "interpreter": {
   "hash": "aee8b7b246df8f9039afb4144a1f6fd8d2ca17a180786b69acc140d282b71a49"
  },
  "kernelspec": {
   "display_name": "Python 3.9.1 64-bit",
   "language": "python",
   "name": "python3"
  },
  "language_info": {
   "codemirror_mode": {
    "name": "ipython",
    "version": 3
   },
   "file_extension": ".py",
   "mimetype": "text/x-python",
   "name": "python",
   "nbconvert_exporter": "python",
   "pygments_lexer": "ipython3",
   "version": "3.9.1"
  },
  "orig_nbformat": 4
 },
 "nbformat": 4,
 "nbformat_minor": 2
}
