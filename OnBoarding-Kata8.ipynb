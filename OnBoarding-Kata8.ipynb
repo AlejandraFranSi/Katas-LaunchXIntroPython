{
 "cells": [
  {
   "cell_type": "markdown",
   "metadata": {},
   "source": [
    "## Uso de diccionarios para obtener información de planetas"
   ]
  },
  {
   "cell_type": "markdown",
   "metadata": {},
   "source": [
    "Primero crearemos un diccionario para almacenar información del planeta Marte"
   ]
  },
  {
   "cell_type": "code",
   "execution_count": 1,
   "metadata": {},
   "outputs": [
    {
     "name": "stdout",
     "output_type": "stream",
     "text": [
      "The planet Mars has 2 moons.\n",
      "The polar circumference of Mars is 6752 km.\n"
     ]
    }
   ],
   "source": [
    "planet = {\n",
    "    \"name\": \"Mars\",\n",
    "    \"moons\" : 2,\n",
    "}\n",
    "\n",
    "# Para mostrar el nombre del planeta y el número de lunas que tiene\n",
    "print(f\"The planet {planet['name'].title()} has {planet['moons']} moons.\")\n",
    "\n",
    "# Agregamos un nuevo valor al diccionario\n",
    "planet[\"circunferencia (km)\"] = {\n",
    "    \"polar\" : 6752,\n",
    "    \"equatorial\": 6792,\n",
    "}\n",
    "\n",
    "# Imprimimos el nombre del planeta con su circunferencia polar\n",
    "print(f\"The polar circumference of {planet['name']} is {planet['circunferencia (km)']['polar']} km.\")"
   ]
  },
  {
   "cell_type": "markdown",
   "metadata": {},
   "source": [
    "Ahora calcularemos el número total de lunas en el sistema solar, así como el número promedio de lunas que tiene un planeta"
   ]
  },
  {
   "cell_type": "code",
   "execution_count": 2,
   "metadata": {},
   "outputs": [
    {
     "name": "stdout",
     "output_type": "stream",
     "text": [
      "The sum of the moons of the planets ['Mercury', 'Venus', 'Earth', 'Mars', 'Jupiter', 'Saturn', 'Uranus', 'Neptune', 'Pluto', 'Haumea', 'Makemake', 'Eris'] is 214.\n",
      "Moreover, the average of moons per planet is 18\n"
     ]
    }
   ],
   "source": [
    "# 1. Creamos un diccionario donde las claves son los nombres de los planetas y los valores son el número de lunas que tiene el planeta\n",
    "planet_moons = {\n",
    "    'mercury': 0,\n",
    "    'venus': 0,\n",
    "    'earth': 1,\n",
    "    'mars': 2,\n",
    "    'jupiter': 79,\n",
    "    'saturn': 82,\n",
    "    'uranus': 27,\n",
    "    'neptune': 14,\n",
    "    'pluto': 5,\n",
    "    'haumea': 2,\n",
    "    'makemake': 1,\n",
    "    'eris': 1\n",
    "}\n",
    "\n",
    "# 2. Ahora sumamos todas el número de lunas de cada planeta\n",
    "total_moons = 0\n",
    "planet_list = []\n",
    "\n",
    "for moons in planet_moons:\n",
    "    total_moons += planet_moons[moons]\n",
    "    planet_list.append(moons.title())\n",
    "\n",
    "# 3. Ahora obtenemos el número de planetas\n",
    "number_of_planets = len(planet_moons)\n",
    "\n",
    "# 4. Ahora obtenemos el promedio de lunas por planeta\n",
    "average_of_moons = round(total_moons / number_of_planets)\n",
    "print(f\"The sum of the moons of the planets {planet_list} is {total_moons}.\\nMoreover, the average of moons per planet is {average_of_moons}\")\n",
    "\n"
   ]
  }
 ],
 "metadata": {
  "interpreter": {
   "hash": "aee8b7b246df8f9039afb4144a1f6fd8d2ca17a180786b69acc140d282b71a49"
  },
  "kernelspec": {
   "display_name": "Python 3.9.1 64-bit",
   "language": "python",
   "name": "python3"
  },
  "language_info": {
   "codemirror_mode": {
    "name": "ipython",
    "version": 3
   },
   "file_extension": ".py",
   "mimetype": "text/x-python",
   "name": "python",
   "nbconvert_exporter": "python",
   "pygments_lexer": "ipython3",
   "version": "3.9.1"
  },
  "orig_nbformat": 4
 },
 "nbformat": 4,
 "nbformat_minor": 2
}
